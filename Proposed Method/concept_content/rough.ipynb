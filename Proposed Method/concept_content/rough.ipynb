{
 "cells": [
  {
   "cell_type": "code",
   "execution_count": 1,
   "metadata": {},
   "outputs": [],
   "source": [
    "import pandas as pd"
   ]
  },
  {
   "cell_type": "code",
   "execution_count": 13,
   "metadata": {},
   "outputs": [],
   "source": [
    "a = ['2.1.1', '3.3.4', '3.8', '3', '3.1.1', '2.3.4', '2.8', '2', '5.1.1', '6.3.4']"
   ]
  },
  {
   "cell_type": "code",
   "execution_count": 14,
   "metadata": {},
   "outputs": [],
   "source": [
    "def get_chapter_clusters(sections):\n",
    "\tchapters = [int(x.split(\".\")[0]) for x in sections]\n",
    "\tchapt_list = list(set(chapters))\n",
    "\n",
    "\tchapters_data = {}\n",
    "\tfor chapt in chapt_list:\n",
    "\t\tchapters_data[chapt] = []\n",
    "\n",
    "\tfor x in sections:\n",
    "\t\tchapt = int(x.split(\".\")[0])\n",
    "\t\tchapters_data[chapt].append(x)\n",
    "\n",
    "\tfinal_chapt_array = [chapters_data[chapt] for chapt in chapters_data]\n",
    "\n",
    "\treturn final_chapt_array"
   ]
  },
  {
   "cell_type": "code",
   "execution_count": 15,
   "metadata": {},
   "outputs": [
    {
     "name": "stdout",
     "output_type": "stream",
     "text": [
      "[['2.1.1', '2.3.4', '2.8', '2'], ['3.3.4', '3.8', '3', '3.1.1'], ['5.1.1'], ['6.3.4']]\n"
     ]
    }
   ],
   "source": [
    "print(get_chapter_clusters(a))"
   ]
  },
  {
   "cell_type": "code",
   "execution_count": 4,
   "metadata": {},
   "outputs": [
    {
     "name": "stdout",
     "output_type": "stream",
     "text": [
      "[2, 3, 3, 3, 3, 2, 2, 2, 5, 6]\n"
     ]
    }
   ],
   "source": [
    "chapters = [int(x.split(\".\")[0]) for x in a]\n",
    "print(chapters)"
   ]
  },
  {
   "cell_type": "code",
   "execution_count": 6,
   "metadata": {},
   "outputs": [],
   "source": [
    "chapt_list = list(set(chapters))"
   ]
  },
  {
   "cell_type": "code",
   "execution_count": 7,
   "metadata": {},
   "outputs": [],
   "source": [
    "chapters_data = {}\n",
    "for chapt in chapt_list:\n",
    "    chapters_data[chapt] = []"
   ]
  },
  {
   "cell_type": "code",
   "execution_count": 8,
   "metadata": {},
   "outputs": [],
   "source": [
    "for x in a:\n",
    "    chapt = int(x.split(\".\")[0])\n",
    "    chapters_data[chapt].append(x)"
   ]
  },
  {
   "cell_type": "code",
   "execution_count": 9,
   "metadata": {},
   "outputs": [
    {
     "name": "stdout",
     "output_type": "stream",
     "text": [
      "{2: ['2.1.1', '2.3.4', '2.8', '2'], 3: ['3.3.4', '3.8', '3', '3.1.1'], 5: ['5.1.1'], 6: ['6.3.4']}\n"
     ]
    }
   ],
   "source": [
    "print(chapters_data)"
   ]
  },
  {
   "cell_type": "code",
   "execution_count": 10,
   "metadata": {},
   "outputs": [],
   "source": [
    "final_chapt_array = [chapters_data[chapt] for chapt in chapters_data]    "
   ]
  },
  {
   "cell_type": "code",
   "execution_count": 12,
   "metadata": {},
   "outputs": [
    {
     "data": {
      "text/plain": [
       "4"
      ]
     },
     "execution_count": 12,
     "metadata": {},
     "output_type": "execute_result"
    }
   ],
   "source": [
    "len(final_chapt_array)"
   ]
  },
  {
   "cell_type": "code",
   "execution_count": null,
   "metadata": {},
   "outputs": [],
   "source": []
  }
 ],
 "metadata": {
  "kernelspec": {
   "display_name": "Python 3",
   "language": "python",
   "name": "python3"
  },
  "language_info": {
   "codemirror_mode": {
    "name": "ipython",
    "version": 3
   },
   "file_extension": ".py",
   "mimetype": "text/x-python",
   "name": "python",
   "nbconvert_exporter": "python",
   "pygments_lexer": "ipython3",
   "version": "3.7.3"
  }
 },
 "nbformat": 4,
 "nbformat_minor": 4
}
