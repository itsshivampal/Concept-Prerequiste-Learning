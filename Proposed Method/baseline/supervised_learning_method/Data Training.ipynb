{
 "cells": [
  {
   "cell_type": "code",
   "execution_count": 1,
   "metadata": {},
   "outputs": [],
   "source": [
    "import pandas as pd\n",
    "import numpy as np\n",
    "\n",
    "import sklearn\n",
    "from sklearn.preprocessing import scale\n",
    "\n",
    "from sklearn.linear_model import LogisticRegression\n",
    "from sklearn.naive_bayes import GaussianNB\n",
    "from sklearn.ensemble import RandomForestClassifier, RandomForestRegressor\n",
    "from sklearn.svm import LinearSVC\n",
    "\n",
    "from sklearn.model_selection import train_test_split, KFold\n",
    "from sklearn import metrics\n",
    "from sklearn import preprocessing\n",
    "from sklearn.metrics import accuracy_score, recall_score, precision_score, f1_score, roc_auc_score, average_precision_score\n",
    "from sklearn.metrics import plot_precision_recall_curve, precision_recall_curve\n",
    "import matplotlib.pyplot as plt"
   ]
  },
  {
   "cell_type": "code",
   "execution_count": 7,
   "metadata": {},
   "outputs": [],
   "source": [
    "all_data = pd.read_csv(\"../../output_files/physics_pairs_data.csv\")"
   ]
  },
  {
   "cell_type": "code",
   "execution_count": 2,
   "metadata": {},
   "outputs": [],
   "source": [
    "training_data = pd.read_csv(\"../../output_files/training_data.csv\")\n",
    "testing_data = pd.read_csv(\"../../output_files/testing_data.csv\")"
   ]
  },
  {
   "cell_type": "code",
   "execution_count": 3,
   "metadata": {},
   "outputs": [],
   "source": [
    "columns = [\"f0\", \"f1\", \"f2\", \"f3\", \"f4\", \"f5\", \"f6\", \"f7\", \"f8\", \"f9\",\n",
    "            \"f10\", \"f11\", \"f12\", \"f13\", \"f14\", \"f15\", \"f16\", \"f17\", \"f18\", \"f19\",\n",
    "            \"f20\", \"f21\", \"f22\", \"f23\", \"f24\", \"f25\", \"f26\", \"f27\", \"f28\", \"f29\",\n",
    "            \"f30\", \"f31\", \"f32\", \"f33\", \"f34\", \"f35\", \"f36\", \"f37\"]\n",
    "\n",
    "def normalize_array(x):\n",
    "    x = np.array(x)\n",
    "    min_x = np.min(x)\n",
    "    max_x = np.max(x)\n",
    "    x = (x - min_x)/(max_x - min_x)\n",
    "    return x\n",
    "\n",
    "\n",
    "def normalized_df(df):\n",
    "    X = [normalize_array([df[[col]].values[i][0] for i in range(len(df[[col]]))]) for col in columns]\n",
    "    X = np.array(X)\n",
    "    return X.T"
   ]
  },
  {
   "cell_type": "code",
   "execution_count": 8,
   "metadata": {},
   "outputs": [],
   "source": [
    "all_data = normalized_df(all_data)"
   ]
  },
  {
   "cell_type": "code",
   "execution_count": 11,
   "metadata": {},
   "outputs": [
    {
     "data": {
      "text/plain": [
       "1.0"
      ]
     },
     "execution_count": 11,
     "metadata": {},
     "output_type": "execute_result"
    }
   ],
   "source": [
    "np.max(all_data)"
   ]
  },
  {
   "cell_type": "code",
   "execution_count": 12,
   "metadata": {},
   "outputs": [
    {
     "data": {
      "text/plain": [
       "0.0"
      ]
     },
     "execution_count": 12,
     "metadata": {},
     "output_type": "execute_result"
    }
   ],
   "source": [
    "np.min(all_data)"
   ]
  },
  {
   "cell_type": "code",
   "execution_count": 4,
   "metadata": {},
   "outputs": [],
   "source": [
    "X_train = training_data[[\"f0\", \"f1\", \"f2\", \"f3\", \"f4\", \"f5\", \"f6\", \"f7\", \"f8\", \"f9\",\n",
    "            \"f10\", \"f11\", \"f12\", \"f13\", \"f14\", \"f15\", \"f16\", \"f17\", \"f18\", \"f19\",\n",
    "            \"f20\", \"f21\", \"f22\", \"f23\", \"f24\", \"f25\", \"f26\", \"f27\", \"f28\", \"f29\",\n",
    "            \"f30\", \"f31\", \"f32\", \"f33\", \"f34\", \"f35\", \"f36\", \"f37\"]]\n",
    "X_train = normalized_df(X_train)"
   ]
  },
  {
   "cell_type": "code",
   "execution_count": 5,
   "metadata": {},
   "outputs": [],
   "source": [
    "y_train = training_data[[\"relation\"]].to_numpy().ravel()\n"
   ]
  },
  {
   "cell_type": "code",
   "execution_count": 6,
   "metadata": {},
   "outputs": [],
   "source": [
    "X_test = testing_data[[\"f0\", \"f1\", \"f2\", \"f3\", \"f4\", \"f5\", \"f6\", \"f7\", \"f8\", \"f9\",\n",
    "            \"f10\", \"f11\", \"f12\", \"f13\", \"f14\", \"f15\", \"f16\", \"f17\", \"f18\", \"f19\",\n",
    "            \"f20\", \"f21\", \"f22\", \"f23\", \"f24\", \"f25\", \"f26\", \"f27\", \"f28\", \"f29\",\n",
    "            \"f30\", \"f31\", \"f32\", \"f33\", \"f34\", \"f35\", \"f36\", \"f37\"]]\n",
    "X_test = normalized_df(X_test)"
   ]
  },
  {
   "cell_type": "code",
   "execution_count": 45,
   "metadata": {},
   "outputs": [],
   "source": [
    "y_test = testing_data[[\"relation\"]].to_numpy().ravel()"
   ]
  },
  {
   "cell_type": "code",
   "execution_count": 46,
   "metadata": {},
   "outputs": [
    {
     "data": {
      "text/plain": [
       "(1363, 38)"
      ]
     },
     "execution_count": 46,
     "metadata": {},
     "output_type": "execute_result"
    }
   ],
   "source": [
    "X_train.shape"
   ]
  },
  {
   "cell_type": "code",
   "execution_count": 47,
   "metadata": {},
   "outputs": [
    {
     "data": {
      "text/plain": [
       "(600, 38)"
      ]
     },
     "execution_count": 47,
     "metadata": {},
     "output_type": "execute_result"
    }
   ],
   "source": [
    "X_test.shape"
   ]
  },
  {
   "cell_type": "code",
   "execution_count": 75,
   "metadata": {},
   "outputs": [],
   "source": [
    "def random_forest(x_train, x_test, y_train, y_test):\n",
    "    rand_forest = RandomForestClassifier(max_depth = 200, random_state=0)\n",
    "    rand_forest.fit(x_train, y_train)\n",
    "    y_predict = rand_forest.predict_proba(x_test)\n",
    "    precision, recall, theta = precision_recall_curve(y_test, y_predict[:,1])\n",
    "#     print(theta)\n",
    "#     print(len(precision), len(recall))\n",
    "    disp = plot_precision_recall_curve(rand_forest, x_test, y_test)\n",
    "    return y_test, y_predict, precision, recall"
   ]
  },
  {
   "cell_type": "code",
   "execution_count": 76,
   "metadata": {},
   "outputs": [
    {
     "data": {
      "image/png": "[encoded data removed]",
      "text/plain": [
       "<Figure size 432x288 with 1 Axes>"
      ]
     },
     "metadata": {
      "needs_background": "light"
     },
     "output_type": "display_data"
    }
   ],
   "source": [
    "y_test, y_predict, precision, recall = random_forest(X_train, X_test, y_train, y_test)"
   ]
  },
  {
   "cell_type": "code",
   "execution_count": 77,
   "metadata": {},
   "outputs": [],
   "source": [
    "df = pd.DataFrame(columns = [\"precision\", \"recall\"])\n",
    "df[\"precision\"] = precision\n",
    "df[\"recall\"] = recall\n",
    "df.to_csv(\"precison_recall.csv\")"
   ]
  },
  {
   "cell_type": "code",
   "execution_count": 65,
   "metadata": {},
   "outputs": [],
   "source": [
    "df = pd.DataFrame(columns = [\"y_test\", \"y_pred\"])\n",
    "df[\"y_test\"] = y_test\n",
    "df[\"y_pred\"] = y_predict\n",
    "df.to_csv(\"predicted_results.csv\")"
   ]
  },
  {
   "cell_type": "code",
   "execution_count": 66,
   "metadata": {},
   "outputs": [
    {
     "data": {
      "text/html": [
       "<div>\n",
       "<style scoped>\n",
       "    .dataframe tbody tr th:only-of-type {\n",
       "        vertical-align: middle;\n",
       "    }\n",
       "\n",
       "    .dataframe tbody tr th {\n",
       "        vertical-align: top;\n",
       "    }\n",
       "\n",
       "    .dataframe thead th {\n",
       "        text-align: right;\n",
       "    }\n",
       "</style>\n",
       "<table border=\"1\" class=\"dataframe\">\n",
       "  <thead>\n",
       "    <tr style=\"text-align: right;\">\n",
       "      <th></th>\n",
       "      <th>y_test</th>\n",
       "      <th>y_pred</th>\n",
       "    </tr>\n",
       "  </thead>\n",
       "  <tbody>\n",
       "    <tr>\n",
       "      <th>0</th>\n",
       "      <td>0.0</td>\n",
       "      <td>0.05</td>\n",
       "    </tr>\n",
       "    <tr>\n",
       "      <th>1</th>\n",
       "      <td>0.0</td>\n",
       "      <td>0.10</td>\n",
       "    </tr>\n",
       "    <tr>\n",
       "      <th>2</th>\n",
       "      <td>0.0</td>\n",
       "      <td>0.13</td>\n",
       "    </tr>\n",
       "    <tr>\n",
       "      <th>3</th>\n",
       "      <td>0.0</td>\n",
       "      <td>0.17</td>\n",
       "    </tr>\n",
       "    <tr>\n",
       "      <th>4</th>\n",
       "      <td>0.0</td>\n",
       "      <td>0.07</td>\n",
       "    </tr>\n",
       "    <tr>\n",
       "      <th>...</th>\n",
       "      <td>...</td>\n",
       "      <td>...</td>\n",
       "    </tr>\n",
       "    <tr>\n",
       "      <th>595</th>\n",
       "      <td>0.0</td>\n",
       "      <td>0.00</td>\n",
       "    </tr>\n",
       "    <tr>\n",
       "      <th>596</th>\n",
       "      <td>0.0</td>\n",
       "      <td>0.05</td>\n",
       "    </tr>\n",
       "    <tr>\n",
       "      <th>597</th>\n",
       "      <td>0.0</td>\n",
       "      <td>0.00</td>\n",
       "    </tr>\n",
       "    <tr>\n",
       "      <th>598</th>\n",
       "      <td>0.0</td>\n",
       "      <td>0.02</td>\n",
       "    </tr>\n",
       "    <tr>\n",
       "      <th>599</th>\n",
       "      <td>0.0</td>\n",
       "      <td>0.00</td>\n",
       "    </tr>\n",
       "  </tbody>\n",
       "</table>\n",
       "<p>600 rows × 2 columns</p>\n",
       "</div>"
      ],
      "text/plain": [
       "     y_test  y_pred\n",
       "0       0.0    0.05\n",
       "1       0.0    0.10\n",
       "2       0.0    0.13\n",
       "3       0.0    0.17\n",
       "4       0.0    0.07\n",
       "..      ...     ...\n",
       "595     0.0    0.00\n",
       "596     0.0    0.05\n",
       "597     0.0    0.00\n",
       "598     0.0    0.02\n",
       "599     0.0    0.00\n",
       "\n",
       "[600 rows x 2 columns]"
      ]
     },
     "execution_count": 66,
     "metadata": {},
     "output_type": "execute_result"
    }
   ],
   "source": [
    "df"
   ]
  },
  {
   "cell_type": "code",
   "execution_count": null,
   "metadata": {},
   "outputs": [],
   "source": []
  },
  {
   "cell_type": "code",
   "execution_count": null,
   "metadata": {},
   "outputs": [],
   "source": []
  },
  {
   "cell_type": "code",
   "execution_count": null,
   "metadata": {},
   "outputs": [],
   "source": []
  },
  {
   "cell_type": "code",
   "execution_count": null,
   "metadata": {},
   "outputs": [],
   "source": []
  },
  {
   "cell_type": "code",
   "execution_count": null,
   "metadata": {},
   "outputs": [],
   "source": [
    "# methods = [\"NB\", \"LR\", \"SVM\", \"RF\"]\n",
    "methods = [\"RF\"]\n",
    "\n",
    "def read_data(file_name):\n",
    "    file = np.genfromtxt(file_name,delimiter=',')\n",
    "    X = file[:-1]\n",
    "    Y = file[-1]\n",
    "    return X.T, Y\n",
    "\n",
    "\n",
    "def evaluation_results(y_test, y_predict):\n",
    "    accuracy = accuracy_score(y_test, y_predict)*100\n",
    "    recall = recall_score(y_test, y_predict)*100\n",
    "    precision = precision_score(y_test, y_predict)*100\n",
    "    f1 = f1_score(y_test, y_predict)*100\n",
    "    auc = roc_auc_score(y_test, y_predict)*100\n",
    "    prc = average_precision_score(y_test, y_predict)\n",
    "    return [accuracy, precision, recall, f1, auc, prc]\n",
    "\n",
    "\n",
    "def print_results(file_name, method, result):\n",
    "    # print(file_name.split(\"/\")[1].split(\".\")[0] + \" with \" + method)\n",
    "    print(\"Accuracy: %.1f\" % result[0])\n",
    "    print(\"Precision: %.1f\" % result[1])\n",
    "    print(\"Recall: %.1f\" % result[2])\n",
    "    print(\"F1 Score: %.1f\" % result[3])\n",
    "    print(\"Area Under Curve: %.1f\" % result[4])\n",
    "    print(\"Area Under PRC: %.3f\" % result[5])\n",
    "    print(\"\\n\")\n",
    "\n",
    "\n",
    "def naive_bayes(x_train, x_test, y_train, y_test):\n",
    "    gaussian_nb = GaussianNB()\n",
    "    gaussian_nb.fit(x_train, y_train)\n",
    "    y_predict = gaussian_nb.predict(x_test)\n",
    "    # print(y_predict)\n",
    "    return evaluation_results(y_test, y_predict)\n",
    "\n",
    "\n",
    "def logisitc_regression(x_train, x_test, y_train, y_test):\n",
    "    logistic_reg = LogisticRegression(solver='lbfgs') # C=1.0, default. solver=\"lbfgs\", default\n",
    "    logistic_reg.fit(x_train, y_train)\n",
    "    y_predict = logistic_reg.predict(x_test)\n",
    "    # print(y_predict)\n",
    "    return evaluation_results(y_test, y_predict)\n",
    "\n",
    "\n",
    "def suppot_vaector_machine(x_train, x_test, y_train, y_test):\n",
    "    support_vector = LinearSVC(random_state=0, tol=1e-5)\n",
    "    support_vector.fit(x_train, y_train)\n",
    "    y_predict = support_vector.predict(x_test)\n",
    "    # print(y_predict)\n",
    "    return evaluation_results(y_test, y_predict)\n",
    "\n",
    "\n",
    "def random_forest(x_train, x_test, y_train, y_test):\n",
    "    rand_forest = RandomForestClassifier(max_depth = 200, random_state=0)\n",
    "    rand_forest.fit(x_train, y_train)\n",
    "    y_predict = rand_forest.predict_proba(x_test)\n",
    "    precision, recall, theta = precision_recall_curve(y_test, y_predict[:,1])\n",
    "    print(theta)\n",
    "    print(len(precision), len(recall))\n",
    "    # print(precision, recall)\n",
    "    disp = plot_precision_recall_curve(rand_forest, x_test, y_test)\n",
    "    # print(disp)\n",
    "    # print(y_predict[:,1])\n",
    "    return evaluation_results(y_test, y_predict)\n",
    "\n",
    "\n",
    "def k_fold_training(X, Y, model):\n",
    "    # x_train, x_test, y_train, y_test = train_test_split(X, Y, test_size = 0.3, random_state = 0)\n",
    "    results = []\n",
    "    kf = KFold(n_splits = 5)\n",
    "    kf.get_n_splits(X)\n",
    "    for train_index, test_index in kf.split(X):\n",
    "        x_train, x_test = X[train_index], X[test_index]\n",
    "        y_train, y_test = Y[train_index], Y[test_index]\n",
    "        if model == \"NB\":\n",
    "            result = naive_bayes(x_train, x_test, y_train, y_test)\n",
    "        elif model == \"LR\":\n",
    "            result = logisitc_regression(x_train, x_test, y_train, y_test)\n",
    "        elif model == \"SVM\":\n",
    "            result = suppot_vaector_machine(x_train, x_test, y_train, y_test)\n",
    "        elif model == \"RF\":\n",
    "            result = random_forest(x_train, x_test, y_train, y_test)\n",
    "        results.append(result)\n",
    "\n",
    "    results = np.array(results)\n",
    "    final_result = np.mean(results, axis = 0)\n",
    "    return final_result"
   ]
  }
 ],
 "metadata": {
  "kernelspec": {
   "display_name": "Python 3",
   "language": "python",
   "name": "python3"
  },
  "language_info": {
   "codemirror_mode": {
    "name": "ipython",
    "version": 3
   },
   "file_extension": ".py",
   "mimetype": "text/x-python",
   "name": "python",
   "nbconvert_exporter": "python",
   "pygments_lexer": "ipython3",
   "version": "3.8.2"
  }
 },
 "nbformat": 4,
 "nbformat_minor": 4
}
