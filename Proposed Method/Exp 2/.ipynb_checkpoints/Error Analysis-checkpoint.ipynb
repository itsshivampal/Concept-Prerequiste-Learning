{
 "cells": [
  {
   "cell_type": "code",
   "execution_count": 1,
   "metadata": {},
   "outputs": [],
   "source": [
    "import pandas as pd\n",
    "import numpy as np"
   ]
  },
  {
   "cell_type": "code",
   "execution_count": 2,
   "metadata": {},
   "outputs": [],
   "source": [
    "book_file = \"../output_files/physics_normalized_content.csv\""
   ]
  },
  {
   "cell_type": "code",
   "execution_count": 3,
   "metadata": {},
   "outputs": [],
   "source": [
    "section = pd.read_csv(book_file)[\"section\"].to_numpy()"
   ]
  },
  {
   "cell_type": "code",
   "execution_count": 4,
   "metadata": {},
   "outputs": [],
   "source": [
    "def get_section_data(section_list):\n",
    "    section_data = {}\n",
    "    for i in range(len(section_list)):\n",
    "        current_collection = [section_list[i]]\n",
    "        flag = 0\n",
    "        for j in range(i+1, len(section_list)):\n",
    "            x1 = len(section_list[i].split(\".\"))\n",
    "            x2 = len(section_list[j].split(\".\"))\n",
    "            if x2 > x1:\n",
    "                current_collection.append(section_list[j])\n",
    "            else:\n",
    "                section = section_list[i]\n",
    "                section_data[section] = \"|\".join(current_collection)\n",
    "                flag = 1\n",
    "                break\n",
    "        if flag == 0:\n",
    "            section = section_list[i]\n",
    "            section_data[section] = \"|\".join(current_collection)\n",
    "\n",
    "    return section_data"
   ]
  },
  {
   "cell_type": "code",
   "execution_count": 5,
   "metadata": {},
   "outputs": [],
   "source": [
    "def find_index(lst, elem, pos):\n",
    "    index = lst.index(elem)\n",
    "    return index + pos\n",
    "        \n",
    "def previous_elem(b):\n",
    "    split_b = b.split(\".\")\n",
    "    b = [int(elem) for elem in split_b]\n",
    "    b[-1] = b[-1] - 1\n",
    "    b = [str(i) for i in b]\n",
    "    return \".\".join(b)\n",
    "\n",
    "def insert_element(elem, lst):\n",
    "    elem_parent = elem[:-2]\n",
    "    last_text = elem[-1]\n",
    "    if last_text == \"1\":\n",
    "        index = find_index(lst, elem_parent, 1)\n",
    "    else:\n",
    "        req_elem = previous_elem(elem)\n",
    "        index = find_index(lst, req_elem, 0)\n",
    "    lst.insert(index, elem)\n",
    "    return lst"
   ]
  },
  {
   "cell_type": "code",
   "execution_count": 26,
   "metadata": {},
   "outputs": [],
   "source": [
    "section_data = get_section_data(section)"
   ]
  },
  {
   "cell_type": "code",
   "execution_count": 6,
   "metadata": {},
   "outputs": [],
   "source": [
    "last_chpt = int(section[-1].split(\".\")[0])"
   ]
  },
  {
   "cell_type": "code",
   "execution_count": null,
   "metadata": {},
   "outputs": [],
   "source": [
    "final_ranking = []\n",
    "for chpt in range(1, last_chpt):\n",
    "    final_ranking.append(str(chpt))\n",
    "    chpt_list = section_data[str(chpt)]\n",
    "    for sect in chpt_list:\n",
    "        final_ranking = "
   ]
  },
  {
   "cell_type": "code",
   "execution_count": 49,
   "metadata": {},
   "outputs": [
    {
     "data": {
      "text/plain": [
       "['2.1',\n",
       " '2.2',\n",
       " '2.2.1',\n",
       " '2.2.2',\n",
       " '2.3',\n",
       " '2.4',\n",
       " '2.5',\n",
       " '2.5.1',\n",
       " '2.5.2',\n",
       " '2.5.3',\n",
       " '2.5.4',\n",
       " '2.6',\n",
       " '2.7',\n",
       " '2.8',\n",
       " '2.8.1',\n",
       " '2.9']"
      ]
     },
     "execution_count": 49,
     "metadata": {},
     "output_type": "execute_result"
    }
   ],
   "source": [
    "a"
   ]
  },
  {
   "cell_type": "code",
   "execution_count": 42,
   "metadata": {},
   "outputs": [],
   "source": [
    "a = [1,2,3]\n",
    "a.insert(3, 2)"
   ]
  },
  {
   "cell_type": "code",
   "execution_count": 44,
   "metadata": {},
   "outputs": [
    {
     "data": {
      "text/plain": [
       "[1, 2, 3, 2]"
      ]
     },
     "execution_count": 44,
     "metadata": {},
     "output_type": "execute_result"
    }
   ],
   "source": [
    "a"
   ]
  },
  {
   "cell_type": "code",
   "execution_count": 55,
   "metadata": {},
   "outputs": [],
   "source": [
    "final_list = [\"2\"]\n",
    "for section in a:\n",
    "    final_list = insert_element(section, final_list)"
   ]
  },
  {
   "cell_type": "code",
   "execution_count": 60,
   "metadata": {},
   "outputs": [],
   "source": [
    "final_list.reverse()"
   ]
  },
  {
   "cell_type": "code",
   "execution_count": 61,
   "metadata": {},
   "outputs": [
    {
     "data": {
      "text/plain": [
       "['2.1',\n",
       " '2.2.1',\n",
       " '2.2.2',\n",
       " '2.2',\n",
       " '2.3',\n",
       " '2.4',\n",
       " '2.5.1',\n",
       " '2.5.2',\n",
       " '2.5.3',\n",
       " '2.5.4',\n",
       " '2.5',\n",
       " '2.6',\n",
       " '2.7',\n",
       " '2.8.1',\n",
       " '2.8',\n",
       " '2.9',\n",
       " '2']"
      ]
     },
     "execution_count": 61,
     "metadata": {},
     "output_type": "execute_result"
    }
   ],
   "source": [
    "final_list"
   ]
  }
 ],
 "metadata": {
  "kernelspec": {
   "display_name": "Python 3",
   "language": "python",
   "name": "python3"
  },
  "language_info": {
   "codemirror_mode": {
    "name": "ipython",
    "version": 3
   },
   "file_extension": ".py",
   "mimetype": "text/x-python",
   "name": "python",
   "nbconvert_exporter": "python",
   "pygments_lexer": "ipython3",
   "version": "3.8.2"
  }
 },
 "nbformat": 4,
 "nbformat_minor": 4
}
