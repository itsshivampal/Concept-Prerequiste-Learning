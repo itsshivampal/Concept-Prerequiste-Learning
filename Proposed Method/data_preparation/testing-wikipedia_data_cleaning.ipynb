{
 "cells": [
  {
   "cell_type": "code",
   "execution_count": 1,
   "metadata": {},
   "outputs": [],
   "source": [
    "import pandas as pd\n",
    "import wikipedia"
   ]
  },
  {
   "cell_type": "code",
   "execution_count": 66,
   "metadata": {},
   "outputs": [],
   "source": [
    "file_name = \"output/physics_wikipedia_data.csv\"\n",
    "df = pd.read_csv(file_name, encoding = \"utf-8\")\n",
    "dataset_length = df.shape[0]"
   ]
  },
  {
   "cell_type": "code",
   "execution_count": 67,
   "metadata": {},
   "outputs": [
    {
     "name": "stdout",
     "output_type": "stream",
     "text": [
      "0 Interference (wave propagation) Wave interference\n",
      "23 Angle of incidence nan\n",
      "29 Position (vector) Position (geometry)\n",
      "49 Magnetism Magnesium\n",
      "58 Friction nan\n",
      "61 Displacement (vector) Displacement (geometry)\n",
      "64 Electron Electricity\n",
      "76 Motion (physics) Motion\n",
      "85 Lever Liver\n",
      "87 Direction (geometry) Body relative direction\n",
      "101 Planet Plant\n",
      "106 Dielectric Dialectic\n",
      "130 Crest (physics) Crest and trough\n",
      "134 Electric charge nan\n"
     ]
    }
   ],
   "source": [
    "incorrect = 0\n",
    "correct = 0\n",
    "\n",
    "topic = df[\"topic\"].tolist()\n",
    "title = df[\"wiki_title\"].tolist()\n",
    "\n",
    "for i in range(dataset_length):\n",
    "    if topic[i] == title[i]:\n",
    "        correct += 1\n",
    "    else:\n",
    "        incorrect += 1\n",
    "        print(i, topic[i], title[i])"
   ]
  },
  {
   "cell_type": "code",
   "execution_count": 59,
   "metadata": {},
   "outputs": [
    {
     "name": "stdout",
     "output_type": "stream",
     "text": [
      "139 14\n"
     ]
    }
   ],
   "source": [
    "print(correct, incorrect)"
   ]
  },
  {
   "cell_type": "code",
   "execution_count": null,
   "metadata": {},
   "outputs": [],
   "source": []
  },
  {
   "cell_type": "code",
   "execution_count": 56,
   "metadata": {},
   "outputs": [
    {
     "name": "stdout",
     "output_type": "stream",
     "text": [
      "['Wave interference', 'Wave propagation', 'Radio propagation', 'Wave', 'Acoustic wave', 'Longitudinal wave', 'Polarization (waves)', 'Standing wave', 'Crest and trough', 'Conoscopic interference pattern']\n"
     ]
    }
   ],
   "source": [
    "wiki = wikipedia.search(\"Interference (wave propagation)\")\n",
    "print(wiki)"
   ]
  },
  {
   "cell_type": "code",
   "execution_count": 57,
   "metadata": {},
   "outputs": [
    {
     "name": "stdout",
     "output_type": "stream",
     "text": [
      "Magnetism\n"
     ]
    }
   ],
   "source": [
    "wiki_data = wikipedia.page(\"Magnetism (magnetized)\")\n",
    "print(wiki_data.title)"
   ]
  },
  {
   "cell_type": "code",
   "execution_count": null,
   "metadata": {},
   "outputs": [],
   "source": [
    "Correction for Blank\n",
    "23 Angle of incidence - Angle of incidence (optics)\n",
    "58 Friction - Friction (physics)\n",
    "134 Electric charge - Electric charge (physics)\n",
    "\n",
    "\n",
    "Correction for Incorrect\n",
    "106 Dielectric - Dielectric (physics)\n",
    "101 Planet - Planets (moving body)\n",
    "85 Lever - Lever (Physics)\n",
    "64 Electron - Electron (Physics)\n",
    "49 Magnetism - Magnetism (magnetized)\n",
    "\n",
    "\n",
    "Correct Prediction but with different name\n",
    "130 Crest (physics) - Crest and trough\n",
    "87 Direction (geometry) Orientation (geometry)\n",
    "76 Motion (physics) Motion\n",
    "61 Displacement (vector) Displacement (geometry)\n",
    "29 Position (vector) Position (geometry)\n",
    "0 Interference (wave propagation) Wave interference"
   ]
  },
  {
   "cell_type": "code",
   "execution_count": null,
   "metadata": {},
   "outputs": [],
   "source": []
  },
  {
   "cell_type": "code",
   "execution_count": null,
   "metadata": {},
   "outputs": [],
   "source": []
  },
  {
   "cell_type": "code",
   "execution_count": 74,
   "metadata": {},
   "outputs": [],
   "source": [
    "file_name = \"output/physics_correct_wikipedia_data.csv\"\n",
    "df = pd.read_csv(file_name, encoding = \"utf-8\")\n",
    "dataset_length = df.shape[0]"
   ]
  },
  {
   "cell_type": "code",
   "execution_count": 75,
   "metadata": {},
   "outputs": [
    {
     "name": "stdout",
     "output_type": "stream",
     "text": [
      "topic    Interference (wave propagation)\n",
      "Name: 0, dtype: object\n"
     ]
    }
   ],
   "source": [
    "print(df[[\"topic\"]].iloc[0])"
   ]
  },
  {
   "cell_type": "code",
   "execution_count": 76,
   "metadata": {},
   "outputs": [
    {
     "name": "stdout",
     "output_type": "stream",
     "text": [
      "0 Interference (wave propagation) Wave interference\n",
      "28 Position (vector) Position (geometry)\n",
      "58 Displacement (vector) Displacement (geometry)\n",
      "72 Motion (physics) Motion\n",
      "82 Direction (geometry) Body relative direction\n",
      "123 Crest (physics) Crest and trough\n",
      "145 Angle of incidence Angle of incidence (optics)\n"
     ]
    }
   ],
   "source": [
    "incorrect = 0\n",
    "correct = 0\n",
    "\n",
    "topic = df[\"topic\"].tolist()\n",
    "title = df[\"wiki_title\"].tolist()\n",
    "\n",
    "for i in range(dataset_length):\n",
    "    if topic[i] == title[i]:\n",
    "        correct += 1\n",
    "    else:\n",
    "        incorrect += 1\n",
    "        print(i, topic[i], title[i])"
   ]
  },
  {
   "cell_type": "code",
   "execution_count": null,
   "metadata": {},
   "outputs": [],
   "source": []
  }
 ],
 "metadata": {
  "kernelspec": {
   "display_name": "Python 3",
   "language": "python",
   "name": "python3"
  },
  "language_info": {
   "codemirror_mode": {
    "name": "ipython",
    "version": 3
   },
   "file_extension": ".py",
   "mimetype": "text/x-python",
   "name": "python",
   "nbconvert_exporter": "python",
   "pygments_lexer": "ipython3",
   "version": "3.7.3"
  }
 },
 "nbformat": 4,
 "nbformat_minor": 2
}
