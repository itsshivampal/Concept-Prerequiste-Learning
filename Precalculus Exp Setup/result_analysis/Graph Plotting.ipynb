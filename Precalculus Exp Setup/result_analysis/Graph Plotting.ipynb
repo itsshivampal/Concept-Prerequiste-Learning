{
 "cells": [
  {
   "cell_type": "code",
   "execution_count": 1,
   "metadata": {},
   "outputs": [],
   "source": [
    "import pandas as pd\n",
    "import numpy as np\n",
    "import matplotlib.pyplot as plt\n",
    "from sklearn.metrics import precision_recall_curve\n",
    "from sklearn.metrics import average_precision_score"
   ]
  },
  {
   "cell_type": "code",
   "execution_count": 2,
   "metadata": {},
   "outputs": [],
   "source": [
    "def check_state(val, theta):\n",
    "    if val >= theta: return 1\n",
    "    else: return 0\n",
    "\n",
    "\n",
    "def compare_result(result, truth):\n",
    "    if truth == 1:\n",
    "        if result == 1: return 1\n",
    "        elif result == 0: return 2\n",
    "    elif truth == 0:\n",
    "        if result == 1: return 3\n",
    "        elif result == 0: return 4\n",
    "\n",
    "\n",
    "\n",
    "\n",
    "def estimation_measures(TP, FN, FP, TN):\n",
    "    if TP == 0 and FP == 0:\n",
    "        precision = 0\n",
    "    else:\n",
    "        precision = TP/(TP + FP)\n",
    "\n",
    "    if TP == 0 and FN == 0:\n",
    "        recall = 0\n",
    "    else:\n",
    "        recall = TP/(TP + FN)\n",
    "\n",
    "    accuracy = (TP + TN)/(TP + FN + FP + TN)\n",
    "    if precision == 0 and recall == 0:\n",
    "        f1_score = 0\n",
    "    else:\n",
    "        f1_score = 2*precision*recall/(precision + recall)\n",
    "    data = {\n",
    "        \"precision\": precision,\n",
    "        \"recall\": recall,\n",
    "        \"accuracy\": accuracy,\n",
    "        \"f1_score\": f1_score\n",
    "    }\n",
    "    return data\n",
    "\n",
    "\n",
    "\n",
    "def check_estimation(y_estimate, y_truth, theta):\n",
    "    TP = 0\n",
    "    TN = 0\n",
    "    FN = 0\n",
    "    FP = 0\n",
    "    for i in range(len(y_estimate)):\n",
    "        estimated = y_estimate[i]\n",
    "        truth = y_truth[i]\n",
    "        result = check_state(estimated, theta)\n",
    "        score_state = compare_result(result, truth)\n",
    "        if score_state == 1: TP += 1\n",
    "        elif score_state == 2: FN += 1\n",
    "        elif score_state == 3: FP += 1\n",
    "        elif score_state == 4: TN += 1\n",
    "    data = estimation_measures(TP, FN, FP, TN)\n",
    "    return data\n",
    "\n",
    "\n",
    "def get_pr_area(precision, recall):\n",
    "\tn = len(precision)\n",
    "\tarea = 0\n",
    "\tfor i in range(1, n):\n",
    "\t\tarea += abs(precision[i]*(recall[i] - recall[i-1]))\n",
    "\treturn area\n",
    "\n",
    "\n",
    "\n",
    "def get_precision_recall(ground_val, est_val):\n",
    "\tprecision = []\n",
    "\trecall = []\n",
    "\ttheta_values = [float(\"{0:.2f}\".format((0.0 + 0.02*i))) for i in range(50)]\n",
    "\tfor theta in theta_values:\n",
    "\t\tdata = check_estimation(est_val, ground_val, theta)\n",
    "\t\tprecision.append(data[\"precision\"])\n",
    "\t\trecall.append(data[\"recall\"])\n",
    "\tarea = get_pr_area(precision, recall)\n",
    "\treturn precision, recall, area\n",
    "\n",
    "\n",
    "def array_normalization(a):\n",
    "\ta = (a - a.min())/(a.max() - a.min())\n",
    "\treturn a\n",
    "\n"
   ]
  },
  {
   "cell_type": "code",
   "execution_count": 3,
   "metadata": {},
   "outputs": [],
   "source": [
    "df1 = pd.read_csv(\"predicted_prereq.csv\")\n",
    "df2 = pd.read_csv(\"refd_estimated_results.csv\")"
   ]
  },
  {
   "cell_type": "code",
   "execution_count": 6,
   "metadata": {},
   "outputs": [
    {
     "data": {
      "image/png": "[encoded data removed]",
      "text/plain": [
       "<Figure size 432x288 with 1 Axes>"
      ]
     },
     "metadata": {
      "needs_background": "light"
     },
     "output_type": "display_data"
    }
   ],
   "source": [
    "ground_truth = df1[\"relation\"].to_numpy().ravel()\n",
    "\n",
    "pr_tfidf = df1[\"tfidf_score\"].to_numpy().ravel()\n",
    "pr_tfidf = array_normalization(pr_tfidf)\n",
    "\n",
    "refd = df2[\"refd_equal\"].to_numpy().ravel()\n",
    "refd = array_normalization(refd)\n",
    "\n",
    "# pr_wiki_tfidf = df[\"wiki_tfidf_score\"].to_numpy().ravel()\n",
    "# pr_wiki_tfidf = array_normalization(pr_wiki_tfidf)\n",
    "\n",
    "precision1, recall1, area1 = get_precision_recall(ground_truth, pr_tfidf)\n",
    "label1 = \"Proposed Method (area = {0:2f})\".format((area1))\n",
    "precision2, recall2, area2 = get_precision_recall(ground_truth, refd)\n",
    "label2 = \"RefD Method (area = {0:2f})\".format((area2))\n",
    "\n",
    "plt.xlabel(\"Recall\")\n",
    "plt.ylabel(\"Precision\")\n",
    "plt.plot(recall1, precision1, label = label1)\n",
    "plt.plot(recall2, precision2, label = label2)\n",
    "plt.legend(loc=\"lower right\")\n",
    "plt.savefig(\"refd_prop.png\")\n"
   ]
  }
 ],
 "metadata": {
  "kernelspec": {
   "display_name": "Python 3",
   "language": "python",
   "name": "python3"
  },
  "language_info": {
   "codemirror_mode": {
    "name": "ipython",
    "version": 3
   },
   "file_extension": ".py",
   "mimetype": "text/x-python",
   "name": "python",
   "nbconvert_exporter": "python",
   "pygments_lexer": "ipython3",
   "version": "3.8.2"
  }
 },
 "nbformat": 4,
 "nbformat_minor": 4
}
