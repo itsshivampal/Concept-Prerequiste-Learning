{
 "cells": [
  {
   "cell_type": "code",
   "execution_count": 13,
   "metadata": {},
   "outputs": [],
   "source": [
    "import pandas as pd\n",
    "import wikipedia\n",
    "import json\n",
    "import random"
   ]
  },
  {
   "cell_type": "markdown",
   "metadata": {},
   "source": [
    "## Reading files from Course Dataset for CS"
   ]
  },
  {
   "cell_type": "code",
   "execution_count": 17,
   "metadata": {},
   "outputs": [],
   "source": [
    "file1 = \"RefD_dataset/Course/CS.edges\"\n",
    "file2 = \"RefD_dataset/Course/CS.edges_neg\"\n",
    "\n",
    "f1 = open(file1)\n",
    "f2 = open(file2)\n",
    "\n",
    "all_topics = []\n",
    "\n",
    "for line in f1:\n",
    "    keywords = line.strip().split(\"\\t\")\n",
    "    all_topics.append(keywords[0])\n",
    "    all_topics.append(keywords[1])\n",
    "\n",
    "for line in f2:\n",
    "    keywords = line.strip().split(\"\\t\")\n",
    "    all_topics.append(keywords[0])\n",
    "    all_topics.append(keywords[1])\n",
    "\n",
    "all_topics = list(set(all_topics))"
   ]
  },
  {
   "cell_type": "code",
   "execution_count": 18,
   "metadata": {},
   "outputs": [
    {
     "name": "stdout",
     "output_type": "stream",
     "text": [
      "63\n"
     ]
    }
   ],
   "source": [
    "print(len(all_topics))"
   ]
  },
  {
   "cell_type": "markdown",
   "metadata": {},
   "source": [
    "## Extracting Wikipedia Content"
   ]
  },
  {
   "cell_type": "code",
   "execution_count": 19,
   "metadata": {},
   "outputs": [],
   "source": [
    "def contain_section(line):\n",
    "    line = line.strip()\n",
    "    if len(line) > 4:\n",
    "        if line[0] == \"=\" and line[1] == \"=\" and line[-2] == \"=\" and line[-1] == \"=\":\n",
    "            return True\n",
    "        else:\n",
    "            return False\n",
    "\n",
    "def wiki_section_extract(content):\n",
    "    lines = content.split(\"\\n\")\n",
    "    sections = \"\"\n",
    "    for line in lines:\n",
    "        if contain_section(line):\n",
    "            sections += line[3:-3] + \"\\n\"\n",
    "    return sections.strip()\n",
    "\n",
    "def keyword_data(topic = \"\", wiki_title = \"\", wiki_summary = \"\",\n",
    "                 wiki_content = \"\", wiki_html = \"\", wiki_links = \"\", wiki_sections = \"\"):\n",
    "    data = {\n",
    "        'topic': topic,\n",
    "        \"wiki_title\": wiki_title,\n",
    "        \"wiki_summary\": wiki_summary,\n",
    "        \"wiki_content\": wiki_content,\n",
    "        \"wiki_html\": wiki_html,\n",
    "        \"wiki_links\": wiki_links,\n",
    "        \"wiki_sections\": wiki_sections\n",
    "    }\n",
    "    return data\n",
    "\n",
    "\n",
    "def extract_data(topic):\n",
    "    wiki_title = \"\"\n",
    "    wiki_summary = \"\"\n",
    "    wiki_content = \"\"\n",
    "    wiki_html = \"\"\n",
    "    wiki_links = \"\"\n",
    "    wiki_sections = \"\"\n",
    "    try:\n",
    "        wiki = wikipedia.search(topic)[0]        \n",
    "        try:\n",
    "            wiki_data = wikipedia.page(wiki)\n",
    "            wiki_title = wiki_data.title\n",
    "            wiki_summary = wiki_data.summary\n",
    "            wiki_content = wiki_data.content\n",
    "            wiki_html = wiki_data.html()\n",
    "            wiki_links = wiki_data.links\n",
    "            wiki_sections = wiki_section_extract(wiki_content)\n",
    "\n",
    "        except wikipedia.exceptions.DisambiguationError as e:\n",
    "            print(\"blank\")\n",
    "        except wikipedia.exceptions.PageError as e:\n",
    "            print(\"blank\")\n",
    "\n",
    "    except IndexError:\n",
    "        print(\"blank\")\n",
    "    \n",
    "    \n",
    "    data = keyword_data(topic, wiki_title, wiki_summary,\n",
    "                        wiki_content, wiki_html, wiki_links, wiki_sections)\n",
    "\n",
    "    return data\n"
   ]
  },
  {
   "cell_type": "code",
   "execution_count": 20,
   "metadata": {},
   "outputs": [],
   "source": [
    "list_len = len(all_topics)\n",
    "all_keyword_data = {}"
   ]
  },
  {
   "cell_type": "code",
   "execution_count": 26,
   "metadata": {
    "scrolled": true
   },
   "outputs": [
    {
     "name": "stdout",
     "output_type": "stream",
     "text": [
      "0\n",
      "1\n",
      "2\n",
      "3\n",
      "4\n",
      "5\n",
      "6\n",
      "7\n",
      "8\n",
      "9\n",
      "10\n",
      "11\n",
      "12\n",
      "13\n",
      "14\n",
      "15\n",
      "16\n",
      "17\n"
     ]
    },
    {
     "name": "stderr",
     "output_type": "stream",
     "text": [
      "/home/shivam/anaconda3/lib/python3.7/site-packages/wikipedia/wikipedia.py:389: UserWarning: No parser was explicitly specified, so I'm using the best available HTML parser for this system (\"lxml\"). This usually isn't a problem, but if you run this code on another system, or in a different virtual environment, it may use a different parser and behave differently.\n",
      "\n",
      "The code that caused this warning is on line 389 of the file /home/shivam/anaconda3/lib/python3.7/site-packages/wikipedia/wikipedia.py. To get rid of this warning, pass the additional argument 'features=\"lxml\"' to the BeautifulSoup constructor.\n",
      "\n",
      "  lis = BeautifulSoup(html).find_all('li')\n"
     ]
    },
    {
     "name": "stdout",
     "output_type": "stream",
     "text": [
      "blank\n",
      "18\n",
      "19\n",
      "20\n",
      "21\n",
      "22\n",
      "23\n",
      "24\n",
      "25\n",
      "26\n",
      "27\n",
      "28\n",
      "29\n",
      "30\n",
      "31\n",
      "32\n",
      "33\n",
      "34\n",
      "35\n",
      "36\n",
      "37\n",
      "38\n",
      "39\n",
      "40\n",
      "41\n",
      "42\n",
      "43\n",
      "44\n",
      "45\n",
      "46\n",
      "47\n",
      "48\n",
      "49\n",
      "50\n",
      "51\n",
      "52\n",
      "53\n",
      "54\n",
      "55\n",
      "56\n",
      "57\n",
      "58\n",
      "59\n",
      "60\n",
      "61\n",
      "62\n"
     ]
    }
   ],
   "source": [
    "complete = 0\n",
    "for i in range(list_len - complete):\n",
    "    i += complete\n",
    "    data = extract_data(all_topics[i])\n",
    "    all_keyword_data[i] = data\n",
    "    print(i)"
   ]
  },
  {
   "cell_type": "code",
   "execution_count": null,
   "metadata": {},
   "outputs": [],
   "source": []
  },
  {
   "cell_type": "code",
   "execution_count": null,
   "metadata": {},
   "outputs": [],
   "source": []
  },
  {
   "cell_type": "markdown",
   "metadata": {},
   "source": [
    "## Saving data in JSON Format"
   ]
  },
  {
   "cell_type": "code",
   "execution_count": 30,
   "metadata": {},
   "outputs": [],
   "source": [
    "with open('output_data/keyterms_wiki_data.json', 'w') as file:\n",
    "    json.dump(all_keyword_data, file)"
   ]
  },
  {
   "cell_type": "markdown",
   "metadata": {},
   "source": [
    "## Saving data in CSV format"
   ]
  },
  {
   "cell_type": "code",
   "execution_count": 31,
   "metadata": {},
   "outputs": [],
   "source": [
    "df = pd.DataFrame(columns=['topic', 'abbreviation', 'wiki_title', 'wiki_summary', 'wiki_content', 'wiki_html', 'wiki_links', 'wiki_sections'])\n",
    "\n",
    "for i in range(len(all_keyword_data)):\n",
    "    df = df.append(all_keyword_data[i], ignore_index=True)\n",
    "\n",
    "df.to_csv(\"output_data/keyterms_wiki_data.csv\")"
   ]
  },
  {
   "cell_type": "code",
   "execution_count": null,
   "metadata": {},
   "outputs": [],
   "source": []
  },
  {
   "cell_type": "code",
   "execution_count": null,
   "metadata": {},
   "outputs": [],
   "source": []
  },
  {
   "cell_type": "markdown",
   "metadata": {},
   "source": [
    "# RefD code implementation"
   ]
  },
  {
   "cell_type": "code",
   "execution_count": 42,
   "metadata": {},
   "outputs": [],
   "source": [
    "def get_id(topic):\n",
    "    for i in all_keyword_data:\n",
    "        if all_keyword_data[i][\"topic\"] == topic:\n",
    "            break\n",
    "    return i\n",
    "        \n",
    "\n",
    "def get_all_referred_links(topic):\n",
    "    topic_id = get_id(topic)\n",
    "    referred_links = all_keyword_data[topic_id][\"wiki_links\"]\n",
    "    return referred_links\n",
    "\n",
    "\n",
    "def get_r_value(topic_a, topic_b):\n",
    "    referred_link_a = get_all_referred_links(topic_a)\n",
    "    if topic_b in referred_link_a:\n",
    "        return 1\n",
    "    else:\n",
    "        return 0\n",
    "\n",
    "\n",
    "def get_w_value_equal(topic_a, topic_b):\n",
    "    referred_link_b = get_all_referred_links(topic_b)\n",
    "    if topic_a in referred_link_b:\n",
    "        return 1\n",
    "    else:\n",
    "        return 0\n",
    "\n",
    "\n",
    "def get_w_value_tfidf(topic_a, topic_b):\n",
    "    pass\n",
    "\n"
   ]
  },
  {
   "cell_type": "code",
   "execution_count": 56,
   "metadata": {},
   "outputs": [],
   "source": [
    "def part_a_calc(topic_a, topic_b):\n",
    "    part_a = 0\n",
    "    for topic in all_topics:\n",
    "        part_a = part_a + get_r_value(topic, topic_b)*get_w_value_equal(topic, topic_a)\n",
    "    return part_a\n",
    "\n",
    "\n",
    "def part_b_calc(topic_a, topic_b):\n",
    "    part_b = 0\n",
    "    for topic in all_topics:\n",
    "        part_b = part_b + get_w_value_equal(topic, topic_a)\n",
    "    return part_b\n",
    "\n",
    "\n",
    "def part_c_calc(topic_a, topic_b):\n",
    "    part_c = 0\n",
    "    for topic in all_topics:\n",
    "        part_c = part_c + get_r_value(topic, topic_a)*get_w_value_equal(topic, topic_b)\n",
    "    return part_c\n",
    "\n",
    "\n",
    "def part_d_calc(topic_a, topic_b):\n",
    "    part_d = 0\n",
    "    for topic in all_topics:\n",
    "        part_d = part_d + get_w_value_equal(topic, topic_b)\n",
    "    return part_d\n",
    "\n",
    "\n",
    "def refd_score_calc(topic_a, topic_b):\n",
    "    part_a = part_a_calc(topic_a, topic_b)\n",
    "    part_b = part_b_calc(topic_a, topic_b)\n",
    "    part_c = part_c_calc(topic_a, topic_b)\n",
    "    part_d = part_d_calc(topic_a, topic_b)\n",
    "    \n",
    "    if part_b == 0 or part_d == 0:\n",
    "        return 0\n",
    "    else:\n",
    "        RefD_a_b = (part_a/part_b) - (part_c/part_d)\n",
    "        return RefD_a_b"
   ]
  },
  {
   "cell_type": "code",
   "execution_count": 58,
   "metadata": {},
   "outputs": [],
   "source": [
    "all_pairs_refd_value = []\n",
    "\n",
    "for topic_a in all_topics:\n",
    "    temp_topic = []\n",
    "    for topic_b in all_topics:\n",
    "        refd_score = refd_score_calc(topic_a, topic_b)\n",
    "        temp_topic.append(refd_score)\n",
    "    all_pairs_refd_value.append(temp_topic)"
   ]
  },
  {
   "cell_type": "code",
   "execution_count": 62,
   "metadata": {},
   "outputs": [],
   "source": [
    "prereq_a = []\n",
    "prereq_b = []"
   ]
  },
  {
   "cell_type": "code",
   "execution_count": 63,
   "metadata": {},
   "outputs": [],
   "source": [
    "theta = 0.02\n",
    "theta_neg = -0.02\n",
    "\n",
    "for i in range(len(all_topics)):\n",
    "    for j in range(len(all_topics)):\n",
    "        if all_pairs_refd_value[i][j] > theta:\n",
    "            prereq_b.append(all_topics[j])\n",
    "            prereq_a.append(all_topics[i])\n",
    "        elif all_pairs_refd_value[i][j] < theta_neg:\n",
    "            prereq_b.append(all_topics[i])\n",
    "            prereq_a.append(all_topics[j])\n",
    "        else:\n",
    "            continue"
   ]
  },
  {
   "cell_type": "code",
   "execution_count": 74,
   "metadata": {},
   "outputs": [],
   "source": [
    "prereq_results = {}\n",
    "\n",
    "for i in range(len(prereq_a)):\n",
    "    prereq_results[i] = {\n",
    "        \"topic_a\": prereq_a[i],\n",
    "        \"topic_b\": prereq_b[i]\n",
    "    }"
   ]
  },
  {
   "cell_type": "code",
   "execution_count": 76,
   "metadata": {},
   "outputs": [],
   "source": [
    "df = pd.DataFrame(columns=['topic_a', 'topic_b'])\n",
    "\n",
    "for i in range(len(prereq_results)):\n",
    "    df = df.append(prereq_results[i], ignore_index=True)\n",
    "\n",
    "df.to_csv(\"output_data/prereq_matches.csv\")"
   ]
  },
  {
   "cell_type": "code",
   "execution_count": null,
   "metadata": {},
   "outputs": [],
   "source": []
  }
 ],
 "metadata": {
  "kernelspec": {
   "display_name": "Python 3",
   "language": "python",
   "name": "python3"
  },
  "language_info": {
   "codemirror_mode": {
    "name": "ipython",
    "version": 3
   },
   "file_extension": ".py",
   "mimetype": "text/x-python",
   "name": "python",
   "nbconvert_exporter": "python",
   "pygments_lexer": "ipython3",
   "version": "3.7.3"
  }
 },
 "nbformat": 4,
 "nbformat_minor": 2
}
