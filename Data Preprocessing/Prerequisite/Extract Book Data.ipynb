{
 "cells": [
  {
   "cell_type": "code",
   "execution_count": 102,
   "metadata": {},
   "outputs": [],
   "source": [
    "import re\n",
    "import os\n",
    "import json\n",
    "import pandas as pd"
   ]
  },
  {
   "cell_type": "code",
   "execution_count": 103,
   "metadata": {},
   "outputs": [],
   "source": [
    "toc_file = \"toc.txt\"\n",
    "chapter_data = \"booktext.txt\""
   ]
  },
  {
   "cell_type": "code",
   "execution_count": 104,
   "metadata": {},
   "outputs": [],
   "source": [
    "toc_array = []\n",
    "file = open(toc_file)\n",
    "for line in file:\n",
    "    line = line.strip()\n",
    "    if line != \"\\n\" and re.search('[a-zA-Z0-9]', line):\n",
    "        toc_array.append(line)\n",
    "file.close()"
   ]
  },
  {
   "cell_type": "code",
   "execution_count": 105,
   "metadata": {},
   "outputs": [],
   "source": [
    "book_array = []\n",
    "file = open(chapter_data)\n",
    "for line in file:\n",
    "    line = line.strip()\n",
    "    if line != \"\\n\" and re.search('[a-zA-Z0-9]', line):\n",
    "        book_array.append(line)\n",
    "file.close()"
   ]
  },
  {
   "cell_type": "code",
   "execution_count": 106,
   "metadata": {},
   "outputs": [],
   "source": [
    "def data_separation(line):\n",
    "    line = line.strip()\n",
    "    pos = line.find(\" \")\n",
    "    index_num = line[:pos]\n",
    "    title = line[pos+1:]\n",
    "    return (index_num, title)\n",
    "\n",
    "def create_file(line):\n",
    "    line = line.replace(\" \", \"_\")\n",
    "    file_name = \"book_data/\" + line + \".txt\"\n",
    "    file = open(file_name, \"w+\")\n",
    "    file.close()\n",
    "    return file_name\n",
    "\n",
    "def match_line(line1, line2):\n",
    "    line1 = line1.lower()\n",
    "    line2 = line2.lower()\n",
    "    index1, title = data_separation(line1)\n",
    "    if index1 in line2 or index1+\".\" in line2:\n",
    "        if title in line2: return 1\n",
    "        else: return 0\n",
    "    else:\n",
    "        return 0\n",
    "\n",
    "def clean_content(content):\n",
    "    content = content.replace(\"\\n\", \". \")\n",
    "    return content\n"
   ]
  },
  {
   "cell_type": "code",
   "execution_count": 109,
   "metadata": {},
   "outputs": [],
   "source": [
    "toc_len = len(toc_array)\n",
    "book_len = len(book_array)\n",
    "\n",
    "current_line = toc_array[i]\n",
    "next_line = toc_array[i + 1]\n",
    "\n",
    "file_name= create_file(current_line)\n",
    "current_file = open(file_name, \"a\")\n",
    "\n",
    "for j in range(book_len):\n",
    "    line = book_array[j]\n",
    "    if match_line(next_line, line):\n",
    "        if i < toc_len - 2:\n",
    "            i += 1\n",
    "            current_line = toc_array[i]\n",
    "            next_line = toc_array[i + 1]\n",
    "        else:\n",
    "            current_line = toc_array[toc_len - 1]\n",
    "        current_file.close()\n",
    "        file_name = create_file(current_line)\n",
    "        current_file = open(file_name, \"a\")\n",
    "    else:\n",
    "        line += \"\\n\"\n",
    "        current_file.write(line)\n",
    "        \n",
    "current_file.close()\n"
   ]
  },
  {
   "cell_type": "code",
   "execution_count": 113,
   "metadata": {},
   "outputs": [],
   "source": [
    "book_data = {}\n",
    "i = 0\n",
    "\n",
    "for topic in toc_array:\n",
    "    index_num, title = data_separation(topic)\n",
    "    topic = topic.replace(\" \", \"_\")\n",
    "    file_name = \"book_data/\" + topic + \".txt\"\n",
    "    file = open(file_name, \"r\")\n",
    "    content = file.read()\n",
    "    content = clean_content(content)\n",
    "    file.close()\n",
    "    data = {\n",
    "        'Section': index_num,\n",
    "        'Title': title,\n",
    "        'Content': content\n",
    "    }\n",
    "    book_data[i] = data\n",
    "    i += 1"
   ]
  },
  {
   "cell_type": "markdown",
   "metadata": {},
   "source": [
    "## Saving data in JSON Format"
   ]
  },
  {
   "cell_type": "code",
   "execution_count": 115,
   "metadata": {},
   "outputs": [],
   "source": [
    "with open('book_data.json', 'w') as file:\n",
    "    json.dump(book_data, file)"
   ]
  },
  {
   "cell_type": "markdown",
   "metadata": {},
   "source": [
    "## Saving data in CSV format"
   ]
  },
  {
   "cell_type": "code",
   "execution_count": 118,
   "metadata": {},
   "outputs": [],
   "source": [
    "df = pd.DataFrame(columns=['Section', 'Title', 'Content'])\n",
    "\n",
    "for i in range(len(book_data)):\n",
    "    df = df.append(book_data[i], ignore_index=True)\n",
    "\n",
    "df.to_csv(\"book_data.csv\")"
   ]
  },
  {
   "cell_type": "code",
   "execution_count": null,
   "metadata": {},
   "outputs": [],
   "source": []
  }
 ],
 "metadata": {
  "kernelspec": {
   "display_name": "Python 3",
   "language": "python",
   "name": "python3"
  },
  "language_info": {
   "codemirror_mode": {
    "name": "ipython",
    "version": 3
   },
   "file_extension": ".py",
   "mimetype": "text/x-python",
   "name": "python",
   "nbconvert_exporter": "python",
   "pygments_lexer": "ipython3",
   "version": "3.7.3"
  }
 },
 "nbformat": 4,
 "nbformat_minor": 2
}
