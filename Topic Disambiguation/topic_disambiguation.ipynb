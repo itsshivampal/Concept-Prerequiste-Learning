{
 "cells": [
  {
   "cell_type": "code",
   "execution_count": 2,
   "metadata": {},
   "outputs": [],
   "source": [
    "import os\n",
    "import pandas as pd"
   ]
  },
  {
   "cell_type": "code",
   "execution_count": 5,
   "metadata": {},
   "outputs": [],
   "source": [
    "dirpath = os.getcwd()\n",
    "\n",
    "text_dir = \"book_chapters_txt\"\n",
    "text_files_path = dirpath + \"/\" + text_dir\n",
    "\n",
    "files = []\n",
    "\n",
    "for r, d, f in os.walk(text_files_path):\n",
    "    for file in f:\n",
    "        if '.txt' in file:\n",
    "            files.append(os.path.join(r, file))"
   ]
  },
  {
   "cell_type": "code",
   "execution_count": 45,
   "metadata": {},
   "outputs": [
    {
     "name": "stdout",
     "output_type": "stream",
     "text": [
      "/home/shivam/Documents/Personalise Learning Thesis/Topic Disambiguation/book_chapters_txt/bprml.txt\n"
     ]
    }
   ],
   "source": [
    "print(files[0])"
   ]
  },
  {
   "cell_type": "code",
   "execution_count": 13,
   "metadata": {},
   "outputs": [],
   "source": [
    "dirpath = os.getcwd()\n",
    "\n",
    "text_dir = \"index_data\"\n",
    "text_files_path = dirpath + \"/\" + text_dir\n",
    "\n",
    "csv_files = []\n",
    "\n",
    "for r, d, f in os.walk(text_files_path):\n",
    "    for file in f:\n",
    "        if '.csv' in file:\n",
    "            csv_files.append(os.path.join(r, file))"
   ]
  },
  {
   "cell_type": "code",
   "execution_count": 14,
   "metadata": {},
   "outputs": [],
   "source": [
    "index_data = pd.read_csv(csv_files[0])"
   ]
  },
  {
   "cell_type": "code",
   "execution_count": 18,
   "metadata": {},
   "outputs": [],
   "source": [
    "parent_class = index_data[[\"Parent Class\"]]\n",
    "sub_class = index_data[[\"Sub Class\"]]\n",
    "\n",
    "index_length = index_data.shape[0]"
   ]
  },
  {
   "cell_type": "code",
   "execution_count": 23,
   "metadata": {},
   "outputs": [
    {
     "name": "stdout",
     "output_type": "stream",
     "text": [
      "acceptance criterion\n"
     ]
    }
   ],
   "source": [
    "print(parent_class.iloc[0].values[0])"
   ]
  },
  {
   "cell_type": "markdown",
   "metadata": {},
   "source": [
    "# maximum keyword phrase extraction"
   ]
  },
  {
   "cell_type": "code",
   "execution_count": 28,
   "metadata": {},
   "outputs": [],
   "source": [
    "max_length = 1\n",
    "\n",
    "def cal_max_length(n1, n2):\n",
    "    if n1 > n2: return n1\n",
    "    else: return n2\n",
    "\n",
    "for i in range(index_length):\n",
    "    x1 = parent_class.iloc[i].values[0]\n",
    "    x2 = sub_class.iloc[i].values[0]\n",
    "    if x1 == x2:\n",
    "        max_length = cal_max_length(max_length, len(x2.split(\" \")))\n",
    "    else:\n",
    "        max_length = cal_max_length(max_length, len(x2.split(\" \")) + len(x1.split(\" \")))"
   ]
  },
  {
   "cell_type": "code",
   "execution_count": 29,
   "metadata": {},
   "outputs": [
    {
     "name": "stdout",
     "output_type": "stream",
     "text": [
      "6\n"
     ]
    }
   ],
   "source": [
    "print(max_length)"
   ]
  },
  {
   "cell_type": "markdown",
   "metadata": {},
   "source": [
    "# Keyphrase extraction from book text"
   ]
  },
  {
   "cell_type": "code",
   "execution_count": 30,
   "metadata": {},
   "outputs": [],
   "source": [
    "import spacy\n",
    "from spacy.tokens import Doc\n",
    "from spacy.vocab import Vocab\n",
    "\n",
    "nlp = spacy.load(\"en_core_web_sm\")"
   ]
  },
  {
   "cell_type": "code",
   "execution_count": 46,
   "metadata": {},
   "outputs": [],
   "source": [
    "book_text = open(files[0]).read()\n",
    "doc = nlp(book_text)"
   ]
  },
  {
   "cell_type": "code",
   "execution_count": null,
   "metadata": {},
   "outputs": [],
   "source": []
  }
 ],
 "metadata": {
  "kernelspec": {
   "display_name": "Python 3",
   "language": "python",
   "name": "python3"
  },
  "language_info": {
   "codemirror_mode": {
    "name": "ipython",
    "version": 3
   },
   "file_extension": ".py",
   "mimetype": "text/x-python",
   "name": "python",
   "nbconvert_exporter": "python",
   "pygments_lexer": "ipython3",
   "version": "3.7.3"
  }
 },
 "nbformat": 4,
 "nbformat_minor": 2
}
